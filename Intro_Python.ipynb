{
  "nbformat": 4,
  "nbformat_minor": 0,
  "metadata": {
    "colab": {
      "name": "Intro_Python.ipynb",
      "provenance": [],
      "collapsed_sections": [
        "hD4tWXIN3MfW",
        "jRHBrxMYTNSZ",
        "I3risH8vbIgP",
        "89JXfehacC1k",
        "wWpb1khI-m19",
        "5A-gw0JGWxOq",
        "qvnKA-Iqo9T4"
      ],
      "authorship_tag": "ABX9TyMx3wv88+j/vfi5wlD9zWrS",
      "include_colab_link": true
    },
    "kernelspec": {
      "name": "python3",
      "display_name": "Python 3"
    },
    "language_info": {
      "name": "python"
    }
  },
  "cells": [
    {
      "cell_type": "markdown",
      "metadata": {
        "id": "view-in-github",
        "colab_type": "text"
      },
      "source": [
        "<a href=\"https://colab.research.google.com/github/j0ngle/wvu-engr-camp/blob/main/Intro_Python.ipynb\" target=\"_parent\"><img src=\"https://colab.research.google.com/assets/colab-badge.svg\" alt=\"Open In Colab\"/></a>"
      ]
    },
    {
      "cell_type": "markdown",
      "metadata": {
        "id": "sBh0Lgcv2IQc"
      },
      "source": [
        "# **Welcome to Google Colab!**\n",
        "\n",
        "---\n",
        "\n",
        "With Colab you can write and run Python code on Google's hardware.\n",
        "This is super useful when you're on a less-than-stellar laptop\n",
        "\n",
        "You'll notice that there are a bunch of code \"blocks\" in this file. \n",
        "What's great about Colab is you can run individual blocks as you write.\n",
        "\n",
        "So, say you have a chunk of code that takes 5 minutes to run. Here, you can just run it once and then continue messing around the all of the surrounding code without taking that extra 5 minutes each time you test.\n",
        "\n",
        "You can click the `[ ]` on the left of code to run the block. Go ahead and try it out as you read through this document!"
      ]
    },
    {
      "cell_type": "markdown",
      "metadata": {
        "id": "hD4tWXIN3MfW"
      },
      "source": [
        "# Python basics"
      ]
    },
    {
      "cell_type": "markdown",
      "metadata": {
        "id": "rJunKVRp3J2g"
      },
      "source": [
        "Now that we are familiar with the environment, lets try to write some code. \n",
        "\n",
        "We'll start with the cliche 'Hello World' example. In python, printing is as easy as typing: \n",
        "\n",
        "```\n",
        "print(\"Hello World\")\n",
        "```\n",
        "\n",
        "You'll notice we used double quotes (\") to define our string. In Python, Strings can actually be defined using single (') or double (\") quotes. \n"
      ]
    },
    {
      "cell_type": "code",
      "metadata": {
        "id": "OTue5H1r1_pq"
      },
      "source": [
        ""
      ],
      "execution_count": null,
      "outputs": []
    },
    {
      "cell_type": "markdown",
      "metadata": {
        "id": "lB0W92ea4z_C"
      },
      "source": [
        "---\n",
        "Now let's define a variable\n",
        "\n",
        "Variables are like containers that hold data like numbers, string, etc. We can save information into these variables for use later. Let's create a variable called *x* and store a number inside of it. Then we'll print out the value to prove that it worked\n",
        "\n",
        "```\n",
        "x = 10\n",
        "print(x)\n",
        "```\n"
      ]
    },
    {
      "cell_type": "code",
      "metadata": {
        "id": "22kYMjrr5NJx"
      },
      "source": [
        ""
      ],
      "execution_count": null,
      "outputs": []
    },
    {
      "cell_type": "markdown",
      "source": [
        "---\n",
        "We can change the data that our variable `x` is holding at any time\n",
        "\n",
        "```\n",
        "x = 11\n",
        "print(x)\n",
        "x = 'Hello World!'\n",
        "print(x)\n",
        "```"
      ],
      "metadata": {
        "id": "2mQHCs2cqouh"
      }
    },
    {
      "cell_type": "code",
      "source": [
        ""
      ],
      "metadata": {
        "id": "TB9C4o1cqz4-"
      },
      "execution_count": null,
      "outputs": []
    },
    {
      "cell_type": "markdown",
      "metadata": {
        "id": "9wP5t0YO5ith"
      },
      "source": [
        "---\n",
        "Math in Python works exactly how you'd expect it in real life*\n",
        "\n",
        "*sort of\n",
        "\n",
        "The basic functions work like this:\n",
        "\n",
        "```\n",
        "x = 1 + 2  #Add\n",
        "print(x)\n",
        "\n",
        "x = 4 - 2  #Subtract\n",
        "print(x)\n",
        "\n",
        "x = 4 * 3  #Multiply\n",
        "print(x)\n",
        "\n",
        "x = 8 / 2  #Divide\n",
        "print(x)\n",
        "\n",
        "x = 2 ** 3 #Exponentiation\n",
        "print(x)\n",
        "```"
      ]
    },
    {
      "cell_type": "code",
      "source": [
        ""
      ],
      "metadata": {
        "id": "yWCyPznc2lxi"
      },
      "execution_count": null,
      "outputs": []
    },
    {
      "cell_type": "markdown",
      "source": [
        "---\n",
        "But some people get a little confused here. Typically when we see an equation like \"x = 1 + 2\", we know that x=3. But immediately after we say that \"x = 4 - 2\", which would imply that x is both 3 and 2? How is this possible? \n",
        "\n",
        "Math in programming doesn't work exactly the same way it does in real life. Instead, when we write `x = 1 + 2` we are *assigning* the variable `x` to the value `1 + 2`, or 3 in this case. And until we reassign it we can use `x = 3` in future functions, but we always have the ability to reassign it to any value we want. Let's try this\n",
        "\n",
        "```\n",
        "x = 1 + 2 #3\n",
        "print(x)\n",
        "\n",
        "y = x + 2 #3 + 2 = 5\n",
        "print(y)\n",
        "\n",
        "x = x + 5\n",
        "print(x)\n",
        "```\n",
        "\n",
        "Here we start by assigning `x` to the value 3. We then use that variable to assign `y` to the value `x + 2`, which is 5 since we know x=3. Then finally we reassign x to the value of y, making it 5 as well. From here we are free to use x=5 in any other equation we want\n"
      ],
      "metadata": {
        "id": "k2CApA-Q1yUw"
      }
    },
    {
      "cell_type": "code",
      "source": [
        ""
      ],
      "metadata": {
        "id": "tP5vM9Ij2asY"
      },
      "execution_count": null,
      "outputs": []
    },
    {
      "cell_type": "markdown",
      "metadata": {
        "id": "jRHBrxMYTNSZ"
      },
      "source": [
        "# Libraries"
      ]
    },
    {
      "cell_type": "markdown",
      "metadata": {
        "id": "dZ7AdU7v7Etu"
      },
      "source": [
        "---\n",
        "You might be wondering how we take the square root of a number. Is there a shortcut? Not exactly.\n",
        "\n",
        "To find the square root, we'll have to import the math library using `import`\n",
        "\n",
        "Libraries, or APIs, are external toolkits that have useful functions to expedite otherwise complicated processes. We don't have access to them by default because we usually don't need them for every single program we'll write. Instead we have to call upon them whenever we need.\n",
        "\n",
        "If you have never coded before this may take a little bit of explanation. \n",
        "\n",
        "We'll start by importing the \"math\" library using `import math`. This gives us access to dozens of useful math functions like sin, cos, log, square root, etc. But how do we access these functions?\n",
        "\n",
        "It's pretty simple actually. We call the library name, followed by a dot `.` and then finally the name of the function. Altogether it should look something like this:\n",
        "\n",
        "```\n",
        "import math\n",
        "x = math.sqrt(64)\n",
        "print(x)\n",
        "```"
      ]
    },
    {
      "cell_type": "code",
      "metadata": {
        "id": "djuJsMbH7bfT"
      },
      "source": [
        ""
      ],
      "execution_count": null,
      "outputs": []
    },
    {
      "cell_type": "markdown",
      "metadata": {
        "id": "d2-I1nR97yYL"
      },
      "source": [
        "---\n",
        "It's kind of a pain to have to type `math.sqrt()` all the time thought isn't it? Luckily we get get around that by telling python which specific functions we would like to import\n",
        "\n",
        "It should look something like this\n",
        "\n",
        "```\n",
        "from math import sqrt\n",
        "x = sqrt(64)\n",
        "print(x)\n",
        "```\n",
        "\n",
        "We can even import multiple functions at the same time\n",
        "\n",
        "```\n",
        "from math import sqrt, sin\n",
        "x = sqrt(64)\n",
        "print(x)\n",
        "y = sin(0)\n",
        "print(y)\n",
        "```"
      ]
    },
    {
      "cell_type": "code",
      "metadata": {
        "id": "_cV2eLnJ7xTu"
      },
      "source": [
        ""
      ],
      "execution_count": null,
      "outputs": []
    },
    {
      "cell_type": "markdown",
      "metadata": {
        "id": "r2FDMwX6TSU9"
      },
      "source": [
        "---\n",
        "Great, but what if we need a bunch of functions from the math library. It would be a pain to import each of them individually, but writing `math.` is still cumbersome.\n",
        "\n",
        "Good news: we can \"alias\" our library name using the keyword `as`. Aliasing allows us to rename the library to anything we want for convenience. It looks something like this\n",
        "\n",
        "```\n",
        "import math as m\n",
        "\n",
        "#Some imports have standard naming conventions\n",
        "import numpy as np\n",
        "import pandas as pd\n",
        "import tensorflow as tf\n",
        "import matplotlib.pyplot as plt\n",
        "\n",
        "#As proof, let's call a math function\n",
        "m.sqrt(64)\n",
        "```"
      ]
    },
    {
      "cell_type": "code",
      "metadata": {
        "id": "gk94abTMTrxM"
      },
      "source": [
        ""
      ],
      "execution_count": null,
      "outputs": []
    },
    {
      "cell_type": "markdown",
      "metadata": {
        "id": "I3risH8vbIgP"
      },
      "source": [
        "# Data Structures"
      ]
    },
    {
      "cell_type": "markdown",
      "metadata": {
        "id": "6rLH1ssTbK5d"
      },
      "source": [
        "---\n",
        "**Lists**\n",
        "\n",
        "Lists are exactly what they sound like: lists of data\n",
        "\n",
        "We can create an empty list just by writing `[]`, or we can prefill it with data by simply adding it between the brackets\n",
        "\n",
        "```\n",
        "#Empty list\n",
        "myList = []\n",
        "print(myList)\n",
        "\n",
        "#Prefilled\n",
        "myList = [1, 2, 3, 4, 5]\n",
        "print(myList)\n",
        "\n",
        "#Lists don't need to contain the same type of object\n",
        "myList = [1, 'some string', False]\n",
        "print(myList)\n",
        "\n",
        "#We get also get the length of our list like:\n",
        "length = len(myList)\n",
        "print(length)\n",
        "```"
      ]
    },
    {
      "cell_type": "code",
      "metadata": {
        "id": "eLpAWYeQbcxB"
      },
      "source": [
        ""
      ],
      "execution_count": null,
      "outputs": []
    },
    {
      "cell_type": "markdown",
      "source": [
        "---\n",
        "Values can be added to the list at any time by using the `.append()` function.\n",
        "\n",
        "```\n",
        "myList = [1, 2, 3, 4, 5]\n",
        "print(myList)\n",
        "\n",
        "myList.append(6)\n",
        "print(myList)\n",
        "```"
      ],
      "metadata": {
        "id": "p6sMejt-Dz_q"
      }
    },
    {
      "cell_type": "code",
      "source": [
        ""
      ],
      "metadata": {
        "id": "u5sZwGDqEEEY"
      },
      "execution_count": null,
      "outputs": []
    },
    {
      "cell_type": "markdown",
      "source": [
        "---\n",
        "Of course, you'll eventually want to access the data stored inside the list. We can tell Python which element we want to access by giving it it's corresponding *index*. Each element in the list has an index **starting at 0**. It's easier to just show you how it looks\n",
        "\n",
        "```\n",
        "#index:    0,   1,   2,   3,   4\n",
        "myList = ['a', 'b', 'c', 'd', 'e']\n",
        "\n",
        "#Say we want to access 'c', which is at index 2\n",
        "print(myList[2])\n",
        "\n",
        "#We can also change the element at any index\n",
        "#So if we cant to change 'd' to 'D':\n",
        "myList[3] = 'D'\n",
        "\n",
        "print(myList)\n",
        "```"
      ],
      "metadata": {
        "id": "QCp-KY0EEKMy"
      }
    },
    {
      "cell_type": "code",
      "source": [
        ""
      ],
      "metadata": {
        "id": "-gWhc2JLFLZD"
      },
      "execution_count": null,
      "outputs": []
    },
    {
      "cell_type": "markdown",
      "metadata": {
        "id": "wWpb1khI-m19"
      },
      "source": [
        "# If Statements and loops"
      ]
    },
    {
      "cell_type": "markdown",
      "metadata": {
        "id": "zluiv5CBUiKw"
      },
      "source": [
        "---\n",
        "Obviously we don't always want our code to do that same thing every time we run it. We might want to change it's functionality depending on some conditions.\n",
        "\n",
        "Enter if-statements. \n",
        "\n",
        "In Python, if statements are defined like so (the `<>` represents a placeholder, not actual code)\n",
        "\n",
        "```\n",
        "if <some_statement>:\n",
        "  # Do a thing\n",
        "```\n",
        "\n",
        "Essentially what we have done is define the statement with the keyword `if`, provided a condition, and then told Python what to do if that condition is my *by indenting the associated code with tab on our keyboard*.\n",
        "\n",
        "In Python indentation defines different blocks of code\n",
        "\n",
        "**Be very careful with you indentation. Python is picky**\n",
        "\n",
        "So let's try one out:\n",
        "\n",
        "```\n",
        "x = 10\n",
        "y = 20\n",
        "\n",
        "if x > y:\n",
        "  print('x > y')\n",
        "\n",
        "print('Rest of code')\n",
        "```"
      ]
    },
    {
      "cell_type": "code",
      "metadata": {
        "id": "NrL8qYICUhX5"
      },
      "source": [
        ""
      ],
      "execution_count": null,
      "outputs": []
    },
    {
      "cell_type": "markdown",
      "source": [
        "---\n",
        "Sometimes we want to run certain code in the event that the condition is not met. We can do this with the keyward `else`. \n",
        "\n",
        "```\n",
        "x = 10\n",
        "y = 20\n",
        "\n",
        "if x > y:\n",
        "  print('x > y')\n",
        "else:\n",
        "  print('x < y')\n",
        "\n",
        "print('Rest of code')\n",
        "```"
      ],
      "metadata": {
        "id": "jj88aJnSIamO"
      }
    },
    {
      "cell_type": "code",
      "source": [
        ""
      ],
      "metadata": {
        "id": "emBF--2cIYu2"
      },
      "execution_count": null,
      "outputs": []
    },
    {
      "cell_type": "markdown",
      "metadata": {
        "id": "RxnVUU42VK97"
      },
      "source": [
        "---\n",
        "But what if we want to handle more than two cases. For example, we may want certain code to run if x is equal to y. We do that with `elif`, which is short for `else if`\n",
        "\n",
        "```\n",
        "x = 1\n",
        "y = 7\n",
        "\n",
        "if x > y:\n",
        "  print('x > y')\n",
        "elif x == y:\n",
        "  print('x == y')\n",
        "else:\n",
        "  print('x < y')\n",
        "\n",
        "#Special case: If your variable is a boolean (True or False) you can just do this\n",
        "b = True\n",
        "if b:\n",
        "  print('True')\n",
        "```\n",
        "\n",
        "---"
      ]
    },
    {
      "cell_type": "code",
      "metadata": {
        "id": "AeQqmO7MVa1e"
      },
      "source": [
        ""
      ],
      "execution_count": null,
      "outputs": []
    },
    {
      "cell_type": "markdown",
      "metadata": {
        "id": "iVMRLy7XV5Qb"
      },
      "source": [
        "---\n",
        "Now we consider the case where we want to chain conditions together to get more complex if statements.\n",
        "\n",
        "It's pretty simple in Python. We can use the keywords `and`, `or`, and `not` to accomplish this. Basically if you can speak it, just write exactly what you say and you'll be fine\n",
        "\n",
        "```\n",
        "a = -1\n",
        "b = 5\n",
        "c = 10\n",
        "d = False\n",
        "\n",
        "# a < b < c\n",
        "if a < b and b < c:\n",
        "  print('a < b < c')\n",
        "\n",
        "if a < 0 or b < 0:\n",
        "  print('Either a or b is negative')\n",
        "\n",
        "if not d:\n",
        "  print('Not d')\n",
        "```"
      ]
    },
    {
      "cell_type": "code",
      "metadata": {
        "id": "7GCBFRVCWI3U"
      },
      "source": [
        ""
      ],
      "execution_count": null,
      "outputs": []
    },
    {
      "cell_type": "markdown",
      "metadata": {
        "id": "5A-gw0JGWxOq"
      },
      "source": [
        "## Loops"
      ]
    },
    {
      "cell_type": "markdown",
      "source": [
        "---\n",
        "There are two types of loops in almost every programming language: `while` and `for`. Both type of loops do what you would expect: they run certain sections of code over and over until a condition is met, at which point they stop.\n",
        "\n",
        "`while` loops are a usually a little easier to understand so we will start there. They're structure looks something like this (remember that the `<>` represent placeholder code\n",
        "\n",
        "```\n",
        "while <condition>:\n",
        "  # Do stuff\n",
        "```\n",
        "\n",
        "Just like with `if` statements, we start with the keyword `while`, followed by some condition, and finally a single indentation where we write our code. \n",
        "\n",
        "Let's say we want to add elements to a list until it reaches a certain length. We can write\n",
        "\n",
        "```\n",
        "myList = []\n",
        "while len(myList) < 10:\n",
        "  myList.append(1)\n",
        "\n",
        "print(myList)\n",
        "```"
      ],
      "metadata": {
        "id": "FJ0htvu-cNfx"
      }
    },
    {
      "cell_type": "code",
      "metadata": {
        "id": "4YGENEL9W3A2"
      },
      "source": [
        ""
      ],
      "execution_count": null,
      "outputs": []
    },
    {
      "cell_type": "markdown",
      "metadata": {
        "id": "Y7gxjNzsW_NM"
      },
      "source": [
        "---\n",
        "For loops can be a little more involved.\n",
        "\n",
        "Generally we use `for` loops when we know how many times we want \"iterate\" through our code. This is especially helpful if we want to do something with every element in a list.\n",
        "\n",
        "There are a few different formats for loops, but we'll talk about two of them.\n",
        "\n",
        "```\n",
        "# Iterate from 1 to n\n",
        "n = 10\n",
        "for i in range(1, n):\n",
        "  print(i)\n",
        "\n",
        "print(\"-------\")\n",
        "\n",
        "# Iterate through a list of objects\n",
        "# \"Enhanced for loop\"\n",
        "myList = ['a', 'b', 'c', 'd', 'e']\n",
        "for elem in myList:\n",
        "  print(elem)\n",
        "\n",
        "print(\"-------\")\n",
        "```"
      ]
    },
    {
      "cell_type": "code",
      "metadata": {
        "id": "fBfISgAgXFYZ"
      },
      "source": [
        ""
      ],
      "execution_count": null,
      "outputs": []
    },
    {
      "cell_type": "markdown",
      "metadata": {
        "id": "N23nIsPV-q7L"
      },
      "source": [
        "# Functions"
      ]
    },
    {
      "cell_type": "markdown",
      "metadata": {
        "id": "l8V71uoeYN4M"
      },
      "source": [
        "---\n",
        "The last thing I want to talk about is user defined functions. Functions are custom commands you can write to run a lot of code in a single line. They are especially useful if you have to run the same exact code multiple times. Instead of writing it all every time you want to use it, you can simply create a function and call that instead.\n",
        "\n",
        "Functions are defined using the keyword `def` as follows\n",
        "\n",
        "```\n",
        "def <function_name>(<parameters>):\n",
        "  # Code\n",
        "```\n",
        "\n",
        "Let's start by making a function that prints a list in reverse order\n",
        "\n",
        "```\n",
        "def reverse_print(lst):\n",
        "  for i in range(1, len(lst)+1):\n",
        "    print(lst[-i])\n",
        "\n",
        "myList = [1, 2, 3, 4, 5]\n",
        "reverse_print(myList)\n",
        "```"
      ]
    },
    {
      "cell_type": "code",
      "metadata": {
        "id": "E1xFOkwXYV00"
      },
      "source": [
        ""
      ],
      "execution_count": null,
      "outputs": []
    },
    {
      "cell_type": "markdown",
      "metadata": {
        "id": "blvDjT5vZAsP"
      },
      "source": [
        "---\n",
        "Sometimes (most of the time) you want functions to calculate some value and give it back to you. For this, we use a `return` statements.\n",
        "\n",
        "Like most things in Python it is exactly what it sounds like. It just returns whatever it is you need and then you can print it, save it to a variable, do nothing with it. Whatever you want.\n",
        "\n",
        "To demonstrate this, we'll make a function to compute the length of the hypotenuse of a triangle\n",
        "\n",
        "```\n",
        "from math import sqrt\n",
        "\n",
        "def pyth_thm(a, b):\n",
        "  a = a ** 2\n",
        "  b = b ** 2\n",
        "  c = sqrt(a + b)\n",
        "  return c\n",
        "\n",
        "c = pyth_thm(3, 4)\n",
        "print(c)\n",
        "```"
      ]
    },
    {
      "cell_type": "code",
      "source": [
        ""
      ],
      "metadata": {
        "id": "iS3jUX4IsKoX"
      },
      "execution_count": null,
      "outputs": []
    },
    {
      "cell_type": "markdown",
      "metadata": {
        "id": "-9sesHhNb-9u"
      },
      "source": [
        "---\n",
        "Another cool thing about Python is you can have optional parameters.\n",
        "\n",
        "You simply need to define a default value when writing you function and make sure that all of the optional parameters are at the end.\n",
        "\n",
        "Here's an example\n",
        "\n",
        "```\n",
        "#Note: They don't all have to be optional \n",
        "def generate_filename(name='file, ext='png'):\n",
        "  filename = name + '.' + ext\n",
        "  return filename\n",
        "\n",
        "f = generate_filename()\n",
        "print(f)\n",
        "\n",
        "f = generate_filename('out')\n",
        "print(f)\n",
        "\n",
        "f = generate_filename('out', ext='jpg')\n",
        "print(f)\n",
        "```\n"
      ]
    },
    {
      "cell_type": "code",
      "source": [
        ""
      ],
      "metadata": {
        "id": "XdRuFlTVuM3r"
      },
      "execution_count": null,
      "outputs": []
    }
  ]
}